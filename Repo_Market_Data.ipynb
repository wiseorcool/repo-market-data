{
 "cells": [
  {
   "cell_type": "code",
   "execution_count": 1,
   "id": "e6bb5d4c",
   "metadata": {},
   "outputs": [],
   "source": [
    "# Download Dependecies\n",
    "import pandas as pd\n",
    "import requests\n",
    "import pprint\n",
    "import json\n"
   ]
  },
  {
   "cell_type": "code",
   "execution_count": 2,
   "id": "6bde4ea2",
   "metadata": {},
   "outputs": [
    {
     "name": "stdout",
     "output_type": "stream",
     "text": [
      "https://markets.newyorkfed.org/api/rp/results/search.json?startDate=2025-01-01&endDate=2025-04-30\n"
     ]
    }
   ],
   "source": [
    "# Set variable for start data and end date for Data to be fetched\n",
    "startDate = \"2025-01-01\"\n",
    "endDate   = \"2025-04-30\"\n",
    "# Download historical SOFR data from New York Fed (CSV)\n",
    "# url = \"https://markets.newyorkfed.org/api/rp/results/search.json?startDate=2025-01-01&endDate=2025-04-30&operationTypes=Reverse%20Repo&method=single&securityType=srf&term=overnight\"\n",
    "\n",
    "# url = \"https://markets.newyorkfed.org/api/rp/results/search.json?startDate=2025-01-01&endDate=2025-04-30\"\n",
    "# Using the start Date and end Date, download data from the new york Fed web API\n",
    "url = f\"https://markets.newyorkfed.org/api/rp/results/search.json?startDate={startDate}&endDate={endDate}\"\n",
    "print(url)"
   ]
  },
  {
   "cell_type": "code",
   "execution_count": 3,
   "id": "cf4ba0a1",
   "metadata": {},
   "outputs": [
    {
     "name": "stdout",
     "output_type": "stream",
     "text": [
      "200\n",
      "<Response [200]>\n"
     ]
    }
   ],
   "source": [
    "# using the request module fetch data from the API, and convert it to a json\n",
    "response = requests.get(url)\n",
    "response_json=response.json()\n",
    "#check if the API is providing a success code of 200\n",
    "print(response.status_code)\n",
    "print(response)"
   ]
  },
  {
   "cell_type": "code",
   "execution_count": 4,
   "id": "94337828",
   "metadata": {},
   "outputs": [
    {
     "name": "stdout",
     "output_type": "stream",
     "text": [
      "1\n",
      "1\n",
      "176\n"
     ]
    }
   ],
   "source": [
    "# Look at the JSON download and check the length of them\n",
    "print(len(response_json))\n",
    "print(len(response_json['repo']))\n",
    "print(len(response_json['repo']['operations']))\n",
    "data_df= pd.DataFrame(response_json['repo']['operations'])"
   ]
  },
  {
   "cell_type": "code",
   "execution_count": 5,
   "id": "782c9c27",
   "metadata": {},
   "outputs": [
    {
     "name": "stdout",
     "output_type": "stream",
     "text": [
      "<class 'pandas.core.frame.DataFrame'>\n",
      "RangeIndex: 176 entries, 0 to 175\n",
      "Data columns (total 21 columns):\n",
      " #   Column             Non-Null Count  Dtype  \n",
      "---  ------             --------------  -----  \n",
      " 0   operationId        176 non-null    object \n",
      " 1   auctionStatus      176 non-null    object \n",
      " 2   operationDate      176 non-null    object \n",
      " 3   settlementDate     176 non-null    object \n",
      " 4   maturityDate       176 non-null    object \n",
      " 5   operationType      176 non-null    object \n",
      " 6   operationMethod    176 non-null    object \n",
      " 7   settlementType     176 non-null    object \n",
      " 8   termCalenderDays   176 non-null    int64  \n",
      " 9   term               176 non-null    object \n",
      " 10  releaseTime        176 non-null    object \n",
      " 11  closeTime          176 non-null    object \n",
      " 12  note               176 non-null    object \n",
      " 13  lastUpdated        176 non-null    object \n",
      " 14  participatingCpty  84 non-null     float64\n",
      " 15  acceptedCpty       84 non-null     float64\n",
      " 16  totalAmtSubmitted  176 non-null    int64  \n",
      " 17  totalAmtAccepted   176 non-null    int64  \n",
      " 18  details            176 non-null    object \n",
      " 19  operationLimit     91 non-null     float64\n",
      " 20  propositions       63 non-null     object \n",
      "dtypes: float64(3), int64(3), object(15)\n",
      "memory usage: 29.0+ KB\n"
     ]
    }
   ],
   "source": [
    "# Peek into the structure\n",
    "data_df.info()"
   ]
  },
  {
   "cell_type": "code",
   "execution_count": 6,
   "id": "2124ddec",
   "metadata": {},
   "outputs": [
    {
     "name": "stdout",
     "output_type": "stream",
     "text": [
      "<class 'pandas.core.frame.DataFrame'>\n",
      "RangeIndex: 176 entries, 0 to 175\n",
      "Data columns (total 21 columns):\n",
      " #   Column             Non-Null Count  Dtype  \n",
      "---  ------             --------------  -----  \n",
      " 0   operationId        176 non-null    object \n",
      " 1   auctionStatus      176 non-null    object \n",
      " 2   operationDate      176 non-null    object \n",
      " 3   settlementDate     176 non-null    object \n",
      " 4   maturityDate       176 non-null    object \n",
      " 5   operationType      176 non-null    object \n",
      " 6   operationMethod    176 non-null    object \n",
      " 7   settlementType     176 non-null    object \n",
      " 8   termCalenderDays   176 non-null    int64  \n",
      " 9   term               176 non-null    object \n",
      " 10  releaseTime        176 non-null    object \n",
      " 11  closeTime          176 non-null    object \n",
      " 12  note               176 non-null    object \n",
      " 13  lastUpdated        176 non-null    object \n",
      " 14  participatingCpty  84 non-null     float64\n",
      " 15  acceptedCpty       84 non-null     float64\n",
      " 16  totalAmtSubmitted  176 non-null    int64  \n",
      " 17  totalAmtAccepted   176 non-null    int64  \n",
      " 18  details            176 non-null    object \n",
      " 19  operationLimit     91 non-null     float64\n",
      " 20  propositions       63 non-null     object \n",
      "dtypes: float64(3), int64(3), object(15)\n",
      "memory usage: 29.0+ KB\n"
     ]
    }
   ],
   "source": [
    "#copy the data frame to a new df\n",
    "Cleaned_df = data_df.copy()\n",
    "\n",
    "#look at info of the new cleaned df \n",
    "Cleaned_df.info()\n"
   ]
  },
  {
   "cell_type": "code",
   "execution_count": 7,
   "id": "daba7ec2",
   "metadata": {},
   "outputs": [
    {
     "name": "stdout",
     "output_type": "stream",
     "text": [
      "<class 'pandas.core.frame.DataFrame'>\n",
      "RangeIndex: 176 entries, 0 to 175\n",
      "Data columns (total 21 columns):\n",
      " #   Column             Non-Null Count  Dtype         \n",
      "---  ------             --------------  -----         \n",
      " 0   operationId        176 non-null    object        \n",
      " 1   auctionStatus      176 non-null    object        \n",
      " 2   operationDate      176 non-null    datetime64[ns]\n",
      " 3   settlementDate     176 non-null    datetime64[ns]\n",
      " 4   maturityDate       176 non-null    datetime64[ns]\n",
      " 5   operationType      176 non-null    object        \n",
      " 6   operationMethod    176 non-null    object        \n",
      " 7   settlementType     176 non-null    object        \n",
      " 8   termCalenderDays   176 non-null    int64         \n",
      " 9   term               176 non-null    object        \n",
      " 10  releaseTime        176 non-null    object        \n",
      " 11  closeTime          176 non-null    object        \n",
      " 12  note               176 non-null    object        \n",
      " 13  lastUpdated        176 non-null    datetime64[ns]\n",
      " 14  participatingCpty  84 non-null     float64       \n",
      " 15  acceptedCpty       84 non-null     float64       \n",
      " 16  totalAmtSubmitted  176 non-null    int64         \n",
      " 17  totalAmtAccepted   176 non-null    int64         \n",
      " 18  details            176 non-null    object        \n",
      " 19  operationLimit     91 non-null     float64       \n",
      " 20  propositions       63 non-null     object        \n",
      "dtypes: datetime64[ns](4), float64(3), int64(3), object(11)\n",
      "memory usage: 29.0+ KB\n"
     ]
    }
   ],
   "source": [
    "#change the data type of datetime columns and time columns to time columns \n",
    "date_col=  [\"operationDate\", \"settlementDate\", \"maturityDate\",  \"lastUpdated\"]\n",
    "time_col = [\"closeTime\",\"releaseTime\"]\n",
    "# Apply the chages datetype to the cleaned_df data frame\n",
    "\n",
    "Cleaned_df[date_col] = Cleaned_df[date_col].apply(pd.to_datetime)\n",
    "\n",
    "# Loop through and apply the change new data type to the applicable columns\n",
    "for col in time_col:\n",
    "    Cleaned_df[col] = Cleaned_df[col].apply(pd.to_datetime).dt.time\n",
    "Cleaned_df.info()"
   ]
  },
  {
   "cell_type": "code",
   "execution_count": 8,
   "id": "6dbb6771",
   "metadata": {},
   "outputs": [
    {
     "data": {
      "text/html": [
       "<div>\n",
       "<style scoped>\n",
       "    .dataframe tbody tr th:only-of-type {\n",
       "        vertical-align: middle;\n",
       "    }\n",
       "\n",
       "    .dataframe tbody tr th {\n",
       "        vertical-align: top;\n",
       "    }\n",
       "\n",
       "    .dataframe thead th {\n",
       "        text-align: right;\n",
       "    }\n",
       "</style>\n",
       "<table border=\"1\" class=\"dataframe\">\n",
       "  <thead>\n",
       "    <tr style=\"text-align: right;\">\n",
       "      <th></th>\n",
       "      <th>operationId</th>\n",
       "      <th>auctionStatus</th>\n",
       "      <th>operationDate</th>\n",
       "      <th>settlementDate</th>\n",
       "      <th>maturityDate</th>\n",
       "      <th>operationType</th>\n",
       "      <th>operationMethod</th>\n",
       "      <th>settlementType</th>\n",
       "      <th>termCalenderDays</th>\n",
       "      <th>term</th>\n",
       "      <th>...</th>\n",
       "      <th>closeTime</th>\n",
       "      <th>note</th>\n",
       "      <th>lastUpdated</th>\n",
       "      <th>participatingCpty</th>\n",
       "      <th>acceptedCpty</th>\n",
       "      <th>totalAmtSubmitted</th>\n",
       "      <th>totalAmtAccepted</th>\n",
       "      <th>details</th>\n",
       "      <th>operationLimit</th>\n",
       "      <th>propositions</th>\n",
       "    </tr>\n",
       "  </thead>\n",
       "  <tbody>\n",
       "    <tr>\n",
       "      <th>0</th>\n",
       "      <td>RP 043025 1</td>\n",
       "      <td>Results</td>\n",
       "      <td>2025-04-30</td>\n",
       "      <td>2025-04-30</td>\n",
       "      <td>2025-05-01</td>\n",
       "      <td>Reverse Repo</td>\n",
       "      <td>Fixed Rate</td>\n",
       "      <td>Same Day</td>\n",
       "      <td>1</td>\n",
       "      <td>Overnight</td>\n",
       "      <td>...</td>\n",
       "      <td>13:15:00</td>\n",
       "      <td></td>\n",
       "      <td>2025-04-30 13:18:48</td>\n",
       "      <td>54.0</td>\n",
       "      <td>54.0</td>\n",
       "      <td>250601000000</td>\n",
       "      <td>250601000000</td>\n",
       "      <td>[{'securityType': 'Treasury', 'amtSubmitted': ...</td>\n",
       "      <td>NaN</td>\n",
       "      <td>NaN</td>\n",
       "    </tr>\n",
       "    <tr>\n",
       "      <th>1</th>\n",
       "      <td>RP 043025 2</td>\n",
       "      <td>Results</td>\n",
       "      <td>2025-04-30</td>\n",
       "      <td>2025-04-30</td>\n",
       "      <td>2025-05-01</td>\n",
       "      <td>Repo</td>\n",
       "      <td>Multiple Price</td>\n",
       "      <td>Same Day</td>\n",
       "      <td>1</td>\n",
       "      <td>Overnight</td>\n",
       "      <td>...</td>\n",
       "      <td>13:45:00</td>\n",
       "      <td></td>\n",
       "      <td>2025-04-30 13:45:59</td>\n",
       "      <td>NaN</td>\n",
       "      <td>NaN</td>\n",
       "      <td>110000000</td>\n",
       "      <td>110000000</td>\n",
       "      <td>[{'securityType': 'Treasury', 'amtSubmitted': ...</td>\n",
       "      <td>5.000000e+11</td>\n",
       "      <td>NaN</td>\n",
       "    </tr>\n",
       "    <tr>\n",
       "      <th>2</th>\n",
       "      <td>RP 042925 1</td>\n",
       "      <td>Results</td>\n",
       "      <td>2025-04-29</td>\n",
       "      <td>2025-04-29</td>\n",
       "      <td>2025-04-30</td>\n",
       "      <td>Reverse Repo</td>\n",
       "      <td>Fixed Rate</td>\n",
       "      <td>Same Day</td>\n",
       "      <td>1</td>\n",
       "      <td>Overnight</td>\n",
       "      <td>...</td>\n",
       "      <td>13:15:00</td>\n",
       "      <td></td>\n",
       "      <td>2025-04-29 13:15:32</td>\n",
       "      <td>37.0</td>\n",
       "      <td>37.0</td>\n",
       "      <td>157537000000</td>\n",
       "      <td>157537000000</td>\n",
       "      <td>[{'securityType': 'Treasury', 'amtSubmitted': ...</td>\n",
       "      <td>NaN</td>\n",
       "      <td>NaN</td>\n",
       "    </tr>\n",
       "    <tr>\n",
       "      <th>3</th>\n",
       "      <td>RP 042925 2</td>\n",
       "      <td>Results</td>\n",
       "      <td>2025-04-29</td>\n",
       "      <td>2025-04-29</td>\n",
       "      <td>2025-04-30</td>\n",
       "      <td>Repo</td>\n",
       "      <td>Multiple Price</td>\n",
       "      <td>Same Day</td>\n",
       "      <td>1</td>\n",
       "      <td>Overnight</td>\n",
       "      <td>...</td>\n",
       "      <td>13:45:00</td>\n",
       "      <td></td>\n",
       "      <td>2025-04-29 13:45:25</td>\n",
       "      <td>NaN</td>\n",
       "      <td>NaN</td>\n",
       "      <td>0</td>\n",
       "      <td>0</td>\n",
       "      <td>[{'securityType': 'Treasury', 'amtSubmitted': ...</td>\n",
       "      <td>5.000000e+11</td>\n",
       "      <td>NaN</td>\n",
       "    </tr>\n",
       "    <tr>\n",
       "      <th>4</th>\n",
       "      <td>RP 042825 1</td>\n",
       "      <td>Results</td>\n",
       "      <td>2025-04-28</td>\n",
       "      <td>2025-04-28</td>\n",
       "      <td>2025-04-29</td>\n",
       "      <td>Reverse Repo</td>\n",
       "      <td>Fixed Rate</td>\n",
       "      <td>Same Day</td>\n",
       "      <td>1</td>\n",
       "      <td>Overnight</td>\n",
       "      <td>...</td>\n",
       "      <td>13:15:00</td>\n",
       "      <td></td>\n",
       "      <td>2025-04-28 13:15:47</td>\n",
       "      <td>38.0</td>\n",
       "      <td>38.0</td>\n",
       "      <td>148649000000</td>\n",
       "      <td>148649000000</td>\n",
       "      <td>[{'securityType': 'Treasury', 'amtSubmitted': ...</td>\n",
       "      <td>NaN</td>\n",
       "      <td>NaN</td>\n",
       "    </tr>\n",
       "    <tr>\n",
       "      <th>...</th>\n",
       "      <td>...</td>\n",
       "      <td>...</td>\n",
       "      <td>...</td>\n",
       "      <td>...</td>\n",
       "      <td>...</td>\n",
       "      <td>...</td>\n",
       "      <td>...</td>\n",
       "      <td>...</td>\n",
       "      <td>...</td>\n",
       "      <td>...</td>\n",
       "      <td>...</td>\n",
       "      <td>...</td>\n",
       "      <td>...</td>\n",
       "      <td>...</td>\n",
       "      <td>...</td>\n",
       "      <td>...</td>\n",
       "      <td>...</td>\n",
       "      <td>...</td>\n",
       "      <td>...</td>\n",
       "      <td>...</td>\n",
       "      <td>...</td>\n",
       "    </tr>\n",
       "    <tr>\n",
       "      <th>171</th>\n",
       "      <td>RP 010325 2</td>\n",
       "      <td>Results</td>\n",
       "      <td>2025-01-03</td>\n",
       "      <td>2025-01-03</td>\n",
       "      <td>2025-01-06</td>\n",
       "      <td>Reverse Repo</td>\n",
       "      <td>Fixed Rate</td>\n",
       "      <td>Same Day</td>\n",
       "      <td>3</td>\n",
       "      <td>Overnight</td>\n",
       "      <td>...</td>\n",
       "      <td>13:15:00</td>\n",
       "      <td></td>\n",
       "      <td>2025-01-03 13:16:04</td>\n",
       "      <td>57.0</td>\n",
       "      <td>57.0</td>\n",
       "      <td>237377000000</td>\n",
       "      <td>237377000000</td>\n",
       "      <td>[{'securityType': 'Treasury', 'amtSubmitted': ...</td>\n",
       "      <td>NaN</td>\n",
       "      <td>[{'counterpartyType': 'bank', 'amtAccepted': 0...</td>\n",
       "    </tr>\n",
       "    <tr>\n",
       "      <th>172</th>\n",
       "      <td>RP 010325 3</td>\n",
       "      <td>Results</td>\n",
       "      <td>2025-01-03</td>\n",
       "      <td>2025-01-03</td>\n",
       "      <td>2025-01-06</td>\n",
       "      <td>Repo</td>\n",
       "      <td>Multiple Price</td>\n",
       "      <td>Same Day</td>\n",
       "      <td>3</td>\n",
       "      <td>Overnight</td>\n",
       "      <td>...</td>\n",
       "      <td>13:45:00</td>\n",
       "      <td></td>\n",
       "      <td>2025-01-03 13:46:13</td>\n",
       "      <td>NaN</td>\n",
       "      <td>NaN</td>\n",
       "      <td>0</td>\n",
       "      <td>0</td>\n",
       "      <td>[{'securityType': 'Treasury', 'amtSubmitted': ...</td>\n",
       "      <td>5.000000e+11</td>\n",
       "      <td>NaN</td>\n",
       "    </tr>\n",
       "    <tr>\n",
       "      <th>173</th>\n",
       "      <td>RP 010225 1</td>\n",
       "      <td>Results</td>\n",
       "      <td>2025-01-02</td>\n",
       "      <td>2025-01-02</td>\n",
       "      <td>2025-01-03</td>\n",
       "      <td>Repo</td>\n",
       "      <td>Multiple Price</td>\n",
       "      <td>Same Day</td>\n",
       "      <td>1</td>\n",
       "      <td>Overnight</td>\n",
       "      <td>...</td>\n",
       "      <td>08:30:00</td>\n",
       "      <td></td>\n",
       "      <td>2025-01-02 08:30:40</td>\n",
       "      <td>NaN</td>\n",
       "      <td>NaN</td>\n",
       "      <td>1000000</td>\n",
       "      <td>1000000</td>\n",
       "      <td>[{'securityType': 'Treasury', 'amtSubmitted': ...</td>\n",
       "      <td>5.000000e+11</td>\n",
       "      <td>NaN</td>\n",
       "    </tr>\n",
       "    <tr>\n",
       "      <th>174</th>\n",
       "      <td>RP 010225 2</td>\n",
       "      <td>Results</td>\n",
       "      <td>2025-01-02</td>\n",
       "      <td>2025-01-02</td>\n",
       "      <td>2025-01-03</td>\n",
       "      <td>Reverse Repo</td>\n",
       "      <td>Fixed Rate</td>\n",
       "      <td>Same Day</td>\n",
       "      <td>1</td>\n",
       "      <td>Overnight</td>\n",
       "      <td>...</td>\n",
       "      <td>13:15:00</td>\n",
       "      <td></td>\n",
       "      <td>2025-01-02 13:15:54</td>\n",
       "      <td>64.0</td>\n",
       "      <td>64.0</td>\n",
       "      <td>239858000000</td>\n",
       "      <td>239858000000</td>\n",
       "      <td>[{'securityType': 'Treasury', 'amtSubmitted': ...</td>\n",
       "      <td>NaN</td>\n",
       "      <td>[{'counterpartyType': 'bank', 'amtAccepted': 0...</td>\n",
       "    </tr>\n",
       "    <tr>\n",
       "      <th>175</th>\n",
       "      <td>RP 010225 3</td>\n",
       "      <td>Results</td>\n",
       "      <td>2025-01-02</td>\n",
       "      <td>2025-01-02</td>\n",
       "      <td>2025-01-03</td>\n",
       "      <td>Repo</td>\n",
       "      <td>Multiple Price</td>\n",
       "      <td>Same Day</td>\n",
       "      <td>1</td>\n",
       "      <td>Overnight</td>\n",
       "      <td>...</td>\n",
       "      <td>13:45:00</td>\n",
       "      <td></td>\n",
       "      <td>2025-01-02 13:45:53</td>\n",
       "      <td>NaN</td>\n",
       "      <td>NaN</td>\n",
       "      <td>3000000</td>\n",
       "      <td>3000000</td>\n",
       "      <td>[{'securityType': 'Treasury', 'amtSubmitted': ...</td>\n",
       "      <td>4.999990e+11</td>\n",
       "      <td>NaN</td>\n",
       "    </tr>\n",
       "  </tbody>\n",
       "</table>\n",
       "<p>176 rows × 21 columns</p>\n",
       "</div>"
      ],
      "text/plain": [
       "     operationId auctionStatus operationDate settlementDate maturityDate  \\\n",
       "0    RP 043025 1       Results    2025-04-30     2025-04-30   2025-05-01   \n",
       "1    RP 043025 2       Results    2025-04-30     2025-04-30   2025-05-01   \n",
       "2    RP 042925 1       Results    2025-04-29     2025-04-29   2025-04-30   \n",
       "3    RP 042925 2       Results    2025-04-29     2025-04-29   2025-04-30   \n",
       "4    RP 042825 1       Results    2025-04-28     2025-04-28   2025-04-29   \n",
       "..           ...           ...           ...            ...          ...   \n",
       "171  RP 010325 2       Results    2025-01-03     2025-01-03   2025-01-06   \n",
       "172  RP 010325 3       Results    2025-01-03     2025-01-03   2025-01-06   \n",
       "173  RP 010225 1       Results    2025-01-02     2025-01-02   2025-01-03   \n",
       "174  RP 010225 2       Results    2025-01-02     2025-01-02   2025-01-03   \n",
       "175  RP 010225 3       Results    2025-01-02     2025-01-02   2025-01-03   \n",
       "\n",
       "    operationType operationMethod settlementType  termCalenderDays       term  \\\n",
       "0    Reverse Repo      Fixed Rate       Same Day                 1  Overnight   \n",
       "1            Repo  Multiple Price       Same Day                 1  Overnight   \n",
       "2    Reverse Repo      Fixed Rate       Same Day                 1  Overnight   \n",
       "3            Repo  Multiple Price       Same Day                 1  Overnight   \n",
       "4    Reverse Repo      Fixed Rate       Same Day                 1  Overnight   \n",
       "..            ...             ...            ...               ...        ...   \n",
       "171  Reverse Repo      Fixed Rate       Same Day                 3  Overnight   \n",
       "172          Repo  Multiple Price       Same Day                 3  Overnight   \n",
       "173          Repo  Multiple Price       Same Day                 1  Overnight   \n",
       "174  Reverse Repo      Fixed Rate       Same Day                 1  Overnight   \n",
       "175          Repo  Multiple Price       Same Day                 1  Overnight   \n",
       "\n",
       "     ... closeTime note         lastUpdated participatingCpty  acceptedCpty  \\\n",
       "0    ...  13:15:00      2025-04-30 13:18:48              54.0          54.0   \n",
       "1    ...  13:45:00      2025-04-30 13:45:59               NaN           NaN   \n",
       "2    ...  13:15:00      2025-04-29 13:15:32              37.0          37.0   \n",
       "3    ...  13:45:00      2025-04-29 13:45:25               NaN           NaN   \n",
       "4    ...  13:15:00      2025-04-28 13:15:47              38.0          38.0   \n",
       "..   ...       ...  ...                 ...               ...           ...   \n",
       "171  ...  13:15:00      2025-01-03 13:16:04              57.0          57.0   \n",
       "172  ...  13:45:00      2025-01-03 13:46:13               NaN           NaN   \n",
       "173  ...  08:30:00      2025-01-02 08:30:40               NaN           NaN   \n",
       "174  ...  13:15:00      2025-01-02 13:15:54              64.0          64.0   \n",
       "175  ...  13:45:00      2025-01-02 13:45:53               NaN           NaN   \n",
       "\n",
       "     totalAmtSubmitted  totalAmtAccepted  \\\n",
       "0         250601000000      250601000000   \n",
       "1            110000000         110000000   \n",
       "2         157537000000      157537000000   \n",
       "3                    0                 0   \n",
       "4         148649000000      148649000000   \n",
       "..                 ...               ...   \n",
       "171       237377000000      237377000000   \n",
       "172                  0                 0   \n",
       "173            1000000           1000000   \n",
       "174       239858000000      239858000000   \n",
       "175            3000000           3000000   \n",
       "\n",
       "                                               details operationLimit  \\\n",
       "0    [{'securityType': 'Treasury', 'amtSubmitted': ...            NaN   \n",
       "1    [{'securityType': 'Treasury', 'amtSubmitted': ...   5.000000e+11   \n",
       "2    [{'securityType': 'Treasury', 'amtSubmitted': ...            NaN   \n",
       "3    [{'securityType': 'Treasury', 'amtSubmitted': ...   5.000000e+11   \n",
       "4    [{'securityType': 'Treasury', 'amtSubmitted': ...            NaN   \n",
       "..                                                 ...            ...   \n",
       "171  [{'securityType': 'Treasury', 'amtSubmitted': ...            NaN   \n",
       "172  [{'securityType': 'Treasury', 'amtSubmitted': ...   5.000000e+11   \n",
       "173  [{'securityType': 'Treasury', 'amtSubmitted': ...   5.000000e+11   \n",
       "174  [{'securityType': 'Treasury', 'amtSubmitted': ...            NaN   \n",
       "175  [{'securityType': 'Treasury', 'amtSubmitted': ...   4.999990e+11   \n",
       "\n",
       "                                          propositions  \n",
       "0                                                  NaN  \n",
       "1                                                  NaN  \n",
       "2                                                  NaN  \n",
       "3                                                  NaN  \n",
       "4                                                  NaN  \n",
       "..                                                 ...  \n",
       "171  [{'counterpartyType': 'bank', 'amtAccepted': 0...  \n",
       "172                                                NaN  \n",
       "173                                                NaN  \n",
       "174  [{'counterpartyType': 'bank', 'amtAccepted': 0...  \n",
       "175                                                NaN  \n",
       "\n",
       "[176 rows x 21 columns]"
      ]
     },
     "execution_count": 8,
     "metadata": {},
     "output_type": "execute_result"
    }
   ],
   "source": [
    "Cleaned_df = Cleaned_df.sort_values('operationDate',ascending=False)\n",
    "Cleaned_df"
   ]
  },
  {
   "cell_type": "code",
   "execution_count": 9,
   "id": "c6955514",
   "metadata": {},
   "outputs": [
    {
     "name": "stdout",
     "output_type": "stream",
     "text": [
      "<class 'pandas.core.frame.DataFrame'>\n",
      "Index: 176 entries, 0 to 175\n",
      "Data columns (total 17 columns):\n",
      " #   Column             Non-Null Count  Dtype         \n",
      "---  ------             --------------  -----         \n",
      " 0   operationId        176 non-null    object        \n",
      " 1   auctionStatus      176 non-null    object        \n",
      " 2   operationDate      176 non-null    datetime64[ns]\n",
      " 3   settlementDate     176 non-null    datetime64[ns]\n",
      " 4   maturityDate       176 non-null    datetime64[ns]\n",
      " 5   operationType      176 non-null    object        \n",
      " 6   operationMethod    176 non-null    object        \n",
      " 7   settlementType     176 non-null    object        \n",
      " 8   termCalenderDays   176 non-null    int64         \n",
      " 9   term               176 non-null    object        \n",
      " 10  note               176 non-null    object        \n",
      " 11  lastUpdated        176 non-null    datetime64[ns]\n",
      " 12  participatingCpty  84 non-null     float64       \n",
      " 13  acceptedCpty       84 non-null     float64       \n",
      " 14  totalAmtSubmitted  176 non-null    int64         \n",
      " 15  totalAmtAccepted   176 non-null    int64         \n",
      " 16  details            176 non-null    object        \n",
      "dtypes: datetime64[ns](4), float64(2), int64(3), object(8)\n",
      "memory usage: 24.8+ KB\n"
     ]
    }
   ],
   "source": [
    "reduced_cleaned_df  = Cleaned_df\n",
    "reduced_cleaned_df = reduced_cleaned_df.drop(columns=['operationLimit','propositions','releaseTime','closeTime'])\n",
    "reduced_cleaned_df.info()"
   ]
  },
  {
   "cell_type": "code",
   "execution_count": 10,
   "id": "ca7ac703",
   "metadata": {},
   "outputs": [
    {
     "data": {
      "text/html": [
       "<div>\n",
       "<style scoped>\n",
       "    .dataframe tbody tr th:only-of-type {\n",
       "        vertical-align: middle;\n",
       "    }\n",
       "\n",
       "    .dataframe tbody tr th {\n",
       "        vertical-align: top;\n",
       "    }\n",
       "\n",
       "    .dataframe thead th {\n",
       "        text-align: right;\n",
       "    }\n",
       "</style>\n",
       "<table border=\"1\" class=\"dataframe\">\n",
       "  <thead>\n",
       "    <tr style=\"text-align: right;\">\n",
       "      <th></th>\n",
       "      <th>operationId</th>\n",
       "      <th>auctionStatus</th>\n",
       "      <th>operationDate</th>\n",
       "      <th>settlementDate</th>\n",
       "      <th>maturityDate</th>\n",
       "      <th>operationType</th>\n",
       "      <th>operationMethod</th>\n",
       "      <th>settlementType</th>\n",
       "      <th>termCalenderDays</th>\n",
       "      <th>term</th>\n",
       "      <th>note</th>\n",
       "      <th>lastUpdated</th>\n",
       "      <th>participatingCpty</th>\n",
       "      <th>acceptedCpty</th>\n",
       "      <th>totalAmtSubmitted</th>\n",
       "      <th>totalAmtAccepted</th>\n",
       "      <th>details</th>\n",
       "    </tr>\n",
       "  </thead>\n",
       "  <tbody>\n",
       "    <tr>\n",
       "      <th>0</th>\n",
       "      <td>RP 043025 1</td>\n",
       "      <td>Results</td>\n",
       "      <td>2025-04-30</td>\n",
       "      <td>2025-04-30</td>\n",
       "      <td>2025-05-01</td>\n",
       "      <td>Reverse Repo</td>\n",
       "      <td>Fixed Rate</td>\n",
       "      <td>Same Day</td>\n",
       "      <td>1</td>\n",
       "      <td>Overnight</td>\n",
       "      <td></td>\n",
       "      <td>2025-04-30 13:18:48</td>\n",
       "      <td>54.0</td>\n",
       "      <td>54.0</td>\n",
       "      <td>250601000000</td>\n",
       "      <td>250601000000</td>\n",
       "      <td>[{'securityType': 'Treasury', 'amtSubmitted': ...</td>\n",
       "    </tr>\n",
       "    <tr>\n",
       "      <th>1</th>\n",
       "      <td>RP 043025 2</td>\n",
       "      <td>Results</td>\n",
       "      <td>2025-04-30</td>\n",
       "      <td>2025-04-30</td>\n",
       "      <td>2025-05-01</td>\n",
       "      <td>Repo</td>\n",
       "      <td>Multiple Price</td>\n",
       "      <td>Same Day</td>\n",
       "      <td>1</td>\n",
       "      <td>Overnight</td>\n",
       "      <td></td>\n",
       "      <td>2025-04-30 13:45:59</td>\n",
       "      <td>NaN</td>\n",
       "      <td>NaN</td>\n",
       "      <td>110000000</td>\n",
       "      <td>110000000</td>\n",
       "      <td>[{'securityType': 'Treasury', 'amtSubmitted': ...</td>\n",
       "    </tr>\n",
       "    <tr>\n",
       "      <th>2</th>\n",
       "      <td>RP 042925 1</td>\n",
       "      <td>Results</td>\n",
       "      <td>2025-04-29</td>\n",
       "      <td>2025-04-29</td>\n",
       "      <td>2025-04-30</td>\n",
       "      <td>Reverse Repo</td>\n",
       "      <td>Fixed Rate</td>\n",
       "      <td>Same Day</td>\n",
       "      <td>1</td>\n",
       "      <td>Overnight</td>\n",
       "      <td></td>\n",
       "      <td>2025-04-29 13:15:32</td>\n",
       "      <td>37.0</td>\n",
       "      <td>37.0</td>\n",
       "      <td>157537000000</td>\n",
       "      <td>157537000000</td>\n",
       "      <td>[{'securityType': 'Treasury', 'amtSubmitted': ...</td>\n",
       "    </tr>\n",
       "    <tr>\n",
       "      <th>3</th>\n",
       "      <td>RP 042925 2</td>\n",
       "      <td>Results</td>\n",
       "      <td>2025-04-29</td>\n",
       "      <td>2025-04-29</td>\n",
       "      <td>2025-04-30</td>\n",
       "      <td>Repo</td>\n",
       "      <td>Multiple Price</td>\n",
       "      <td>Same Day</td>\n",
       "      <td>1</td>\n",
       "      <td>Overnight</td>\n",
       "      <td></td>\n",
       "      <td>2025-04-29 13:45:25</td>\n",
       "      <td>NaN</td>\n",
       "      <td>NaN</td>\n",
       "      <td>0</td>\n",
       "      <td>0</td>\n",
       "      <td>[{'securityType': 'Treasury', 'amtSubmitted': ...</td>\n",
       "    </tr>\n",
       "    <tr>\n",
       "      <th>4</th>\n",
       "      <td>RP 042825 1</td>\n",
       "      <td>Results</td>\n",
       "      <td>2025-04-28</td>\n",
       "      <td>2025-04-28</td>\n",
       "      <td>2025-04-29</td>\n",
       "      <td>Reverse Repo</td>\n",
       "      <td>Fixed Rate</td>\n",
       "      <td>Same Day</td>\n",
       "      <td>1</td>\n",
       "      <td>Overnight</td>\n",
       "      <td></td>\n",
       "      <td>2025-04-28 13:15:47</td>\n",
       "      <td>38.0</td>\n",
       "      <td>38.0</td>\n",
       "      <td>148649000000</td>\n",
       "      <td>148649000000</td>\n",
       "      <td>[{'securityType': 'Treasury', 'amtSubmitted': ...</td>\n",
       "    </tr>\n",
       "    <tr>\n",
       "      <th>...</th>\n",
       "      <td>...</td>\n",
       "      <td>...</td>\n",
       "      <td>...</td>\n",
       "      <td>...</td>\n",
       "      <td>...</td>\n",
       "      <td>...</td>\n",
       "      <td>...</td>\n",
       "      <td>...</td>\n",
       "      <td>...</td>\n",
       "      <td>...</td>\n",
       "      <td>...</td>\n",
       "      <td>...</td>\n",
       "      <td>...</td>\n",
       "      <td>...</td>\n",
       "      <td>...</td>\n",
       "      <td>...</td>\n",
       "      <td>...</td>\n",
       "    </tr>\n",
       "    <tr>\n",
       "      <th>171</th>\n",
       "      <td>RP 010325 2</td>\n",
       "      <td>Results</td>\n",
       "      <td>2025-01-03</td>\n",
       "      <td>2025-01-03</td>\n",
       "      <td>2025-01-06</td>\n",
       "      <td>Reverse Repo</td>\n",
       "      <td>Fixed Rate</td>\n",
       "      <td>Same Day</td>\n",
       "      <td>3</td>\n",
       "      <td>Overnight</td>\n",
       "      <td></td>\n",
       "      <td>2025-01-03 13:16:04</td>\n",
       "      <td>57.0</td>\n",
       "      <td>57.0</td>\n",
       "      <td>237377000000</td>\n",
       "      <td>237377000000</td>\n",
       "      <td>[{'securityType': 'Treasury', 'amtSubmitted': ...</td>\n",
       "    </tr>\n",
       "    <tr>\n",
       "      <th>172</th>\n",
       "      <td>RP 010325 3</td>\n",
       "      <td>Results</td>\n",
       "      <td>2025-01-03</td>\n",
       "      <td>2025-01-03</td>\n",
       "      <td>2025-01-06</td>\n",
       "      <td>Repo</td>\n",
       "      <td>Multiple Price</td>\n",
       "      <td>Same Day</td>\n",
       "      <td>3</td>\n",
       "      <td>Overnight</td>\n",
       "      <td></td>\n",
       "      <td>2025-01-03 13:46:13</td>\n",
       "      <td>NaN</td>\n",
       "      <td>NaN</td>\n",
       "      <td>0</td>\n",
       "      <td>0</td>\n",
       "      <td>[{'securityType': 'Treasury', 'amtSubmitted': ...</td>\n",
       "    </tr>\n",
       "    <tr>\n",
       "      <th>173</th>\n",
       "      <td>RP 010225 1</td>\n",
       "      <td>Results</td>\n",
       "      <td>2025-01-02</td>\n",
       "      <td>2025-01-02</td>\n",
       "      <td>2025-01-03</td>\n",
       "      <td>Repo</td>\n",
       "      <td>Multiple Price</td>\n",
       "      <td>Same Day</td>\n",
       "      <td>1</td>\n",
       "      <td>Overnight</td>\n",
       "      <td></td>\n",
       "      <td>2025-01-02 08:30:40</td>\n",
       "      <td>NaN</td>\n",
       "      <td>NaN</td>\n",
       "      <td>1000000</td>\n",
       "      <td>1000000</td>\n",
       "      <td>[{'securityType': 'Treasury', 'amtSubmitted': ...</td>\n",
       "    </tr>\n",
       "    <tr>\n",
       "      <th>174</th>\n",
       "      <td>RP 010225 2</td>\n",
       "      <td>Results</td>\n",
       "      <td>2025-01-02</td>\n",
       "      <td>2025-01-02</td>\n",
       "      <td>2025-01-03</td>\n",
       "      <td>Reverse Repo</td>\n",
       "      <td>Fixed Rate</td>\n",
       "      <td>Same Day</td>\n",
       "      <td>1</td>\n",
       "      <td>Overnight</td>\n",
       "      <td></td>\n",
       "      <td>2025-01-02 13:15:54</td>\n",
       "      <td>64.0</td>\n",
       "      <td>64.0</td>\n",
       "      <td>239858000000</td>\n",
       "      <td>239858000000</td>\n",
       "      <td>[{'securityType': 'Treasury', 'amtSubmitted': ...</td>\n",
       "    </tr>\n",
       "    <tr>\n",
       "      <th>175</th>\n",
       "      <td>RP 010225 3</td>\n",
       "      <td>Results</td>\n",
       "      <td>2025-01-02</td>\n",
       "      <td>2025-01-02</td>\n",
       "      <td>2025-01-03</td>\n",
       "      <td>Repo</td>\n",
       "      <td>Multiple Price</td>\n",
       "      <td>Same Day</td>\n",
       "      <td>1</td>\n",
       "      <td>Overnight</td>\n",
       "      <td></td>\n",
       "      <td>2025-01-02 13:45:53</td>\n",
       "      <td>NaN</td>\n",
       "      <td>NaN</td>\n",
       "      <td>3000000</td>\n",
       "      <td>3000000</td>\n",
       "      <td>[{'securityType': 'Treasury', 'amtSubmitted': ...</td>\n",
       "    </tr>\n",
       "  </tbody>\n",
       "</table>\n",
       "<p>176 rows × 17 columns</p>\n",
       "</div>"
      ],
      "text/plain": [
       "     operationId auctionStatus operationDate settlementDate maturityDate  \\\n",
       "0    RP 043025 1       Results    2025-04-30     2025-04-30   2025-05-01   \n",
       "1    RP 043025 2       Results    2025-04-30     2025-04-30   2025-05-01   \n",
       "2    RP 042925 1       Results    2025-04-29     2025-04-29   2025-04-30   \n",
       "3    RP 042925 2       Results    2025-04-29     2025-04-29   2025-04-30   \n",
       "4    RP 042825 1       Results    2025-04-28     2025-04-28   2025-04-29   \n",
       "..           ...           ...           ...            ...          ...   \n",
       "171  RP 010325 2       Results    2025-01-03     2025-01-03   2025-01-06   \n",
       "172  RP 010325 3       Results    2025-01-03     2025-01-03   2025-01-06   \n",
       "173  RP 010225 1       Results    2025-01-02     2025-01-02   2025-01-03   \n",
       "174  RP 010225 2       Results    2025-01-02     2025-01-02   2025-01-03   \n",
       "175  RP 010225 3       Results    2025-01-02     2025-01-02   2025-01-03   \n",
       "\n",
       "    operationType operationMethod settlementType  termCalenderDays       term  \\\n",
       "0    Reverse Repo      Fixed Rate       Same Day                 1  Overnight   \n",
       "1            Repo  Multiple Price       Same Day                 1  Overnight   \n",
       "2    Reverse Repo      Fixed Rate       Same Day                 1  Overnight   \n",
       "3            Repo  Multiple Price       Same Day                 1  Overnight   \n",
       "4    Reverse Repo      Fixed Rate       Same Day                 1  Overnight   \n",
       "..            ...             ...            ...               ...        ...   \n",
       "171  Reverse Repo      Fixed Rate       Same Day                 3  Overnight   \n",
       "172          Repo  Multiple Price       Same Day                 3  Overnight   \n",
       "173          Repo  Multiple Price       Same Day                 1  Overnight   \n",
       "174  Reverse Repo      Fixed Rate       Same Day                 1  Overnight   \n",
       "175          Repo  Multiple Price       Same Day                 1  Overnight   \n",
       "\n",
       "    note         lastUpdated  participatingCpty  acceptedCpty  \\\n",
       "0        2025-04-30 13:18:48               54.0          54.0   \n",
       "1        2025-04-30 13:45:59                NaN           NaN   \n",
       "2        2025-04-29 13:15:32               37.0          37.0   \n",
       "3        2025-04-29 13:45:25                NaN           NaN   \n",
       "4        2025-04-28 13:15:47               38.0          38.0   \n",
       "..   ...                 ...                ...           ...   \n",
       "171      2025-01-03 13:16:04               57.0          57.0   \n",
       "172      2025-01-03 13:46:13                NaN           NaN   \n",
       "173      2025-01-02 08:30:40                NaN           NaN   \n",
       "174      2025-01-02 13:15:54               64.0          64.0   \n",
       "175      2025-01-02 13:45:53                NaN           NaN   \n",
       "\n",
       "     totalAmtSubmitted  totalAmtAccepted  \\\n",
       "0         250601000000      250601000000   \n",
       "1            110000000         110000000   \n",
       "2         157537000000      157537000000   \n",
       "3                    0                 0   \n",
       "4         148649000000      148649000000   \n",
       "..                 ...               ...   \n",
       "171       237377000000      237377000000   \n",
       "172                  0                 0   \n",
       "173            1000000           1000000   \n",
       "174       239858000000      239858000000   \n",
       "175            3000000           3000000   \n",
       "\n",
       "                                               details  \n",
       "0    [{'securityType': 'Treasury', 'amtSubmitted': ...  \n",
       "1    [{'securityType': 'Treasury', 'amtSubmitted': ...  \n",
       "2    [{'securityType': 'Treasury', 'amtSubmitted': ...  \n",
       "3    [{'securityType': 'Treasury', 'amtSubmitted': ...  \n",
       "4    [{'securityType': 'Treasury', 'amtSubmitted': ...  \n",
       "..                                                 ...  \n",
       "171  [{'securityType': 'Treasury', 'amtSubmitted': ...  \n",
       "172  [{'securityType': 'Treasury', 'amtSubmitted': ...  \n",
       "173  [{'securityType': 'Treasury', 'amtSubmitted': ...  \n",
       "174  [{'securityType': 'Treasury', 'amtSubmitted': ...  \n",
       "175  [{'securityType': 'Treasury', 'amtSubmitted': ...  \n",
       "\n",
       "[176 rows x 17 columns]"
      ]
     },
     "execution_count": 10,
     "metadata": {},
     "output_type": "execute_result"
    }
   ],
   "source": [
    "reduced_cleaned_df"
   ]
  },
  {
   "cell_type": "code",
   "execution_count": 11,
   "id": "182ba73e",
   "metadata": {},
   "outputs": [
    {
     "data": {
      "text/plain": [
       "Index(['operationId', 'auctionStatus', 'operationDate', 'settlementDate',\n",
       "       'maturityDate', 'operationType', 'operationMethod', 'settlementType',\n",
       "       'termCalenderDays', 'term', 'note', 'lastUpdated', 'participatingCpty',\n",
       "       'acceptedCpty', 'totalAmtSubmitted', 'totalAmtAccepted', 'details'],\n",
       "      dtype='object')"
      ]
     },
     "execution_count": 11,
     "metadata": {},
     "output_type": "execute_result"
    }
   ],
   "source": [
    "# Observe the column in new dataframe and remove if required\n",
    "reduced_cleaned_df.columns"
   ]
  },
  {
   "cell_type": "code",
   "execution_count": 12,
   "id": "0c0fd868",
   "metadata": {},
   "outputs": [
    {
     "data": {
      "text/plain": [
       "operationType\n",
       "Repo            92\n",
       "Reverse Repo    84\n",
       "Name: count, dtype: int64"
      ]
     },
     "execution_count": 12,
     "metadata": {},
     "output_type": "execute_result"
    }
   ],
   "source": [
    "reduced_cleaned_df['operationType'].value_counts()"
   ]
  },
  {
   "cell_type": "code",
   "execution_count": 41,
   "id": "daaac0a2",
   "metadata": {},
   "outputs": [],
   "source": [
    "Repo_df = reduced_cleaned_df[reduced_cleaned_df['operationType']=='Repo']\n",
    "Reverse_Repo_df = reduced_cleaned_df[reduced_cleaned_df['operationType']=='Reverse Repo']"
   ]
  },
  {
   "cell_type": "code",
   "execution_count": 42,
   "id": "27510ea3",
   "metadata": {},
   "outputs": [],
   "source": [
    "#Make the repo DF aggregated for Weekly and Monthly distribution\n",
    "\n",
    "#Set the operating date as index \n",
    "Repo_df.set_index(\"operationDate\", inplace=True)\n",
    "\n",
    "# Resample weekly (W) or monthly (M)\n",
    "Repo_weekly_df = Repo_df[\"totalAmtAccepted\"].resample(\"W\").sum()\n",
    "Repo_monthly_df = Repo_df[\"totalAmtAccepted\"].resample(\"ME\").sum()\n",
    "Repo_weekly_df = Repo_weekly_df.reset_index()\n",
    "Repo_monthly_df = Repo_monthly_df.reset_index()"
   ]
  },
  {
   "cell_type": "code",
   "execution_count": null,
   "id": "bd70e898",
   "metadata": {},
   "outputs": [],
   "source": [
    "#Make the repo DF aggregated for Weekly and Monthly distribution\n",
    "\n",
    "#Set the operating date as index \n",
    "Reverse_Repo_df.set_index(\"operationDate\", inplace=True)\n",
    "\n",
    "# Resample weekly (W) or monthly (M)\n",
    "Reverse_Repo_weekly_df = Reverse_Repo_df[\"totalAmtAccepted\"].resample(\"W\").sum()\n",
    "Reverse_Repo_monthly_df = Reverse_Repo_df[\"totalAmtAccepted\"].resample(\"ME\").sum()\n",
    "Reverse_Repo_weekly_df = Reverse_Repo_weekly_df.reset_index()\n",
    "Reverse_Repo_monthly_df = Reverse_Repo_monthly_df.reset_index()"
   ]
  },
  {
   "cell_type": "code",
   "execution_count": 45,
   "id": "e4be1a34",
   "metadata": {},
   "outputs": [
    {
     "data": {
      "text/html": [
       "<div>\n",
       "<style scoped>\n",
       "    .dataframe tbody tr th:only-of-type {\n",
       "        vertical-align: middle;\n",
       "    }\n",
       "\n",
       "    .dataframe tbody tr th {\n",
       "        vertical-align: top;\n",
       "    }\n",
       "\n",
       "    .dataframe thead th {\n",
       "        text-align: right;\n",
       "    }\n",
       "</style>\n",
       "<table border=\"1\" class=\"dataframe\">\n",
       "  <thead>\n",
       "    <tr style=\"text-align: right;\">\n",
       "      <th></th>\n",
       "      <th>operationDate</th>\n",
       "      <th>totalAmtAccepted</th>\n",
       "    </tr>\n",
       "  </thead>\n",
       "  <tbody>\n",
       "    <tr>\n",
       "      <th>0</th>\n",
       "      <td>2025-01-31</td>\n",
       "      <td>97000000</td>\n",
       "    </tr>\n",
       "    <tr>\n",
       "      <th>1</th>\n",
       "      <td>2025-02-28</td>\n",
       "      <td>301000000</td>\n",
       "    </tr>\n",
       "    <tr>\n",
       "      <th>2</th>\n",
       "      <td>2025-03-31</td>\n",
       "      <td>225000000</td>\n",
       "    </tr>\n",
       "    <tr>\n",
       "      <th>3</th>\n",
       "      <td>2025-04-30</td>\n",
       "      <td>222000000</td>\n",
       "    </tr>\n",
       "  </tbody>\n",
       "</table>\n",
       "</div>"
      ],
      "text/plain": [
       "  operationDate  totalAmtAccepted\n",
       "0    2025-01-31          97000000\n",
       "1    2025-02-28         301000000\n",
       "2    2025-03-31         225000000\n",
       "3    2025-04-30         222000000"
      ]
     },
     "execution_count": 45,
     "metadata": {},
     "output_type": "execute_result"
    }
   ],
   "source": [
    "Repo_monthly_df"
   ]
  },
  {
   "cell_type": "code",
   "execution_count": 46,
   "id": "d07194e2",
   "metadata": {},
   "outputs": [
    {
     "data": {
      "image/png": "[encoded data removed]",
      "text/plain": [
       "<Figure size 1000x500 with 1 Axes>"
      ]
     },
     "metadata": {},
     "output_type": "display_data"
    }
   ],
   "source": [
    "import matplotlib.pyplot as plt\n",
    "\n",
    "\n",
    "plt.figure(figsize=(10, 5))\n",
    "plt.plot(Repo_monthly_df['operationDate'], Repo_monthly_df['totalAmtAccepted'], marker='o')\n",
    "plt.title(\"Total Par Accepted Over Time\")\n",
    "plt.xlabel(\"Date\")\n",
    "plt.ylabel(\"Total Par Accepted (USD)\")\n",
    "plt.grid(True)\n",
    "plt.show()"
   ]
  },
  {
   "cell_type": "code",
   "execution_count": 47,
   "id": "7dc99f5b",
   "metadata": {},
   "outputs": [
    {
     "data": {
      "application/vnd.plotly.v1+json": {
       "config": {
        "plotlyServerURL": "https://plot.ly"
       },
       "data": [
        {
         "hovertemplate": "operationDate=%{x}<br>totalAmtAccepted=%{y}<extra></extra>",
         "legendgroup": "",
         "line": {
          "color": "#636efa",
          "dash": "solid"
         },
         "marker": {
          "symbol": "circle"
         },
         "mode": "lines",
         "name": "",
         "orientation": "v",
         "showlegend": false,
         "type": "scatter",
         "x": [
          "2025-01-31T00:00:00.000000000",
          "2025-02-28T00:00:00.000000000",
          "2025-03-31T00:00:00.000000000",
          "2025-04-30T00:00:00.000000000"
         ],
         "xaxis": "x",
         "y": {
          "bdata": "QBrIBUDl8BFAOmkNgHM7DQ==",
          "dtype": "i4"
         },
         "yaxis": "y"
        }
       ],
       "layout": {
        "legend": {
         "tracegroupgap": 0
        },
        "template": {
         "data": {
          "bar": [
           {
            "error_x": {
             "color": "#2a3f5f"
            },
            "error_y": {
             "color": "#2a3f5f"
            },
            "marker": {
             "line": {
              "color": "#E5ECF6",
              "width": 0.5
             },
             "pattern": {
              "fillmode": "overlay",
              "size": 10,
              "solidity": 0.2
             }
            },
            "type": "bar"
           }
          ],
          "barpolar": [
           {
            "marker": {
             "line": {
              "color": "#E5ECF6",
              "width": 0.5
             },
             "pattern": {
              "fillmode": "overlay",
              "size": 10,
              "solidity": 0.2
             }
            },
            "type": "barpolar"
           }
          ],
          "carpet": [
           {
            "aaxis": {
             "endlinecolor": "#2a3f5f",
             "gridcolor": "white",
             "linecolor": "white",
             "minorgridcolor": "white",
             "startlinecolor": "#2a3f5f"
            },
            "baxis": {
             "endlinecolor": "#2a3f5f",
             "gridcolor": "white",
             "linecolor": "white",
             "minorgridcolor": "white",
             "startlinecolor": "#2a3f5f"
            },
            "type": "carpet"
           }
          ],
          "choropleth": [
           {
            "colorbar": {
             "outlinewidth": 0,
             "ticks": ""
            },
            "type": "choropleth"
           }
          ],
          "contour": [
           {
            "colorbar": {
             "outlinewidth": 0,
             "ticks": ""
            },
            "colorscale": [
             [
              0,
              "#0d0887"
             ],
             [
              0.1111111111111111,
              "#46039f"
             ],
             [
              0.2222222222222222,
              "#7201a8"
             ],
             [
              0.3333333333333333,
              "#9c179e"
             ],
             [
              0.4444444444444444,
              "#bd3786"
             ],
             [
              0.5555555555555556,
              "#d8576b"
             ],
             [
              0.6666666666666666,
              "#ed7953"
             ],
             [
              0.7777777777777778,
              "#fb9f3a"
             ],
             [
              0.8888888888888888,
              "#fdca26"
             ],
             [
              1,
              "#f0f921"
             ]
            ],
            "type": "contour"
           }
          ],
          "contourcarpet": [
           {
            "colorbar": {
             "outlinewidth": 0,
             "ticks": ""
            },
            "type": "contourcarpet"
           }
          ],
          "heatmap": [
           {
            "colorbar": {
             "outlinewidth": 0,
             "ticks": ""
            },
            "colorscale": [
             [
              0,
              "#0d0887"
             ],
             [
              0.1111111111111111,
              "#46039f"
             ],
             [
              0.2222222222222222,
              "#7201a8"
             ],
             [
              0.3333333333333333,
              "#9c179e"
             ],
             [
              0.4444444444444444,
              "#bd3786"
             ],
             [
              0.5555555555555556,
              "#d8576b"
             ],
             [
              0.6666666666666666,
              "#ed7953"
             ],
             [
              0.7777777777777778,
              "#fb9f3a"
             ],
             [
              0.8888888888888888,
              "#fdca26"
             ],
             [
              1,
              "#f0f921"
             ]
            ],
            "type": "heatmap"
           }
          ],
          "histogram": [
           {
            "marker": {
             "pattern": {
              "fillmode": "overlay",
              "size": 10,
              "solidity": 0.2
             }
            },
            "type": "histogram"
           }
          ],
          "histogram2d": [
           {
            "colorbar": {
             "outlinewidth": 0,
             "ticks": ""
            },
            "colorscale": [
             [
              0,
              "#0d0887"
             ],
             [
              0.1111111111111111,
              "#46039f"
             ],
             [
              0.2222222222222222,
              "#7201a8"
             ],
             [
              0.3333333333333333,
              "#9c179e"
             ],
             [
              0.4444444444444444,
              "#bd3786"
             ],
             [
              0.5555555555555556,
              "#d8576b"
             ],
             [
              0.6666666666666666,
              "#ed7953"
             ],
             [
              0.7777777777777778,
              "#fb9f3a"
             ],
             [
              0.8888888888888888,
              "#fdca26"
             ],
             [
              1,
              "#f0f921"
             ]
            ],
            "type": "histogram2d"
           }
          ],
          "histogram2dcontour": [
           {
            "colorbar": {
             "outlinewidth": 0,
             "ticks": ""
            },
            "colorscale": [
             [
              0,
              "#0d0887"
             ],
             [
              0.1111111111111111,
              "#46039f"
             ],
             [
              0.2222222222222222,
              "#7201a8"
             ],
             [
              0.3333333333333333,
              "#9c179e"
             ],
             [
              0.4444444444444444,
              "#bd3786"
             ],
             [
              0.5555555555555556,
              "#d8576b"
             ],
             [
              0.6666666666666666,
              "#ed7953"
             ],
             [
              0.7777777777777778,
              "#fb9f3a"
             ],
             [
              0.8888888888888888,
              "#fdca26"
             ],
             [
              1,
              "#f0f921"
             ]
            ],
            "type": "histogram2dcontour"
           }
          ],
          "mesh3d": [
           {
            "colorbar": {
             "outlinewidth": 0,
             "ticks": ""
            },
            "type": "mesh3d"
           }
          ],
          "parcoords": [
           {
            "line": {
             "colorbar": {
              "outlinewidth": 0,
              "ticks": ""
             }
            },
            "type": "parcoords"
           }
          ],
          "pie": [
           {
            "automargin": true,
            "type": "pie"
           }
          ],
          "scatter": [
           {
            "fillpattern": {
             "fillmode": "overlay",
             "size": 10,
             "solidity": 0.2
            },
            "type": "scatter"
           }
          ],
          "scatter3d": [
           {
            "line": {
             "colorbar": {
              "outlinewidth": 0,
              "ticks": ""
             }
            },
            "marker": {
             "colorbar": {
              "outlinewidth": 0,
              "ticks": ""
             }
            },
            "type": "scatter3d"
           }
          ],
          "scattercarpet": [
           {
            "marker": {
             "colorbar": {
              "outlinewidth": 0,
              "ticks": ""
             }
            },
            "type": "scattercarpet"
           }
          ],
          "scattergeo": [
           {
            "marker": {
             "colorbar": {
              "outlinewidth": 0,
              "ticks": ""
             }
            },
            "type": "scattergeo"
           }
          ],
          "scattergl": [
           {
            "marker": {
             "colorbar": {
              "outlinewidth": 0,
              "ticks": ""
             }
            },
            "type": "scattergl"
           }
          ],
          "scattermap": [
           {
            "marker": {
             "colorbar": {
              "outlinewidth": 0,
              "ticks": ""
             }
            },
            "type": "scattermap"
           }
          ],
          "scattermapbox": [
           {
            "marker": {
             "colorbar": {
              "outlinewidth": 0,
              "ticks": ""
             }
            },
            "type": "scattermapbox"
           }
          ],
          "scatterpolar": [
           {
            "marker": {
             "colorbar": {
              "outlinewidth": 0,
              "ticks": ""
             }
            },
            "type": "scatterpolar"
           }
          ],
          "scatterpolargl": [
           {
            "marker": {
             "colorbar": {
              "outlinewidth": 0,
              "ticks": ""
             }
            },
            "type": "scatterpolargl"
           }
          ],
          "scatterternary": [
           {
            "marker": {
             "colorbar": {
              "outlinewidth": 0,
              "ticks": ""
             }
            },
            "type": "scatterternary"
           }
          ],
          "surface": [
           {
            "colorbar": {
             "outlinewidth": 0,
             "ticks": ""
            },
            "colorscale": [
             [
              0,
              "#0d0887"
             ],
             [
              0.1111111111111111,
              "#46039f"
             ],
             [
              0.2222222222222222,
              "#7201a8"
             ],
             [
              0.3333333333333333,
              "#9c179e"
             ],
             [
              0.4444444444444444,
              "#bd3786"
             ],
             [
              0.5555555555555556,
              "#d8576b"
             ],
             [
              0.6666666666666666,
              "#ed7953"
             ],
             [
              0.7777777777777778,
              "#fb9f3a"
             ],
             [
              0.8888888888888888,
              "#fdca26"
             ],
             [
              1,
              "#f0f921"
             ]
            ],
            "type": "surface"
           }
          ],
          "table": [
           {
            "cells": {
             "fill": {
              "color": "#EBF0F8"
             },
             "line": {
              "color": "white"
             }
            },
            "header": {
             "fill": {
              "color": "#C8D4E3"
             },
             "line": {
              "color": "white"
             }
            },
            "type": "table"
           }
          ]
         },
         "layout": {
          "annotationdefaults": {
           "arrowcolor": "#2a3f5f",
           "arrowhead": 0,
           "arrowwidth": 1
          },
          "autotypenumbers": "strict",
          "coloraxis": {
           "colorbar": {
            "outlinewidth": 0,
            "ticks": ""
           }
          },
          "colorscale": {
           "diverging": [
            [
             0,
             "#8e0152"
            ],
            [
             0.1,
             "#c51b7d"
            ],
            [
             0.2,
             "#de77ae"
            ],
            [
             0.3,
             "#f1b6da"
            ],
            [
             0.4,
             "#fde0ef"
            ],
            [
             0.5,
             "#f7f7f7"
            ],
            [
             0.6,
             "#e6f5d0"
            ],
            [
             0.7,
             "#b8e186"
            ],
            [
             0.8,
             "#7fbc41"
            ],
            [
             0.9,
             "#4d9221"
            ],
            [
             1,
             "#276419"
            ]
           ],
           "sequential": [
            [
             0,
             "#0d0887"
            ],
            [
             0.1111111111111111,
             "#46039f"
            ],
            [
             0.2222222222222222,
             "#7201a8"
            ],
            [
             0.3333333333333333,
             "#9c179e"
            ],
            [
             0.4444444444444444,
             "#bd3786"
            ],
            [
             0.5555555555555556,
             "#d8576b"
            ],
            [
             0.6666666666666666,
             "#ed7953"
            ],
            [
             0.7777777777777778,
             "#fb9f3a"
            ],
            [
             0.8888888888888888,
             "#fdca26"
            ],
            [
             1,
             "#f0f921"
            ]
           ],
           "sequentialminus": [
            [
             0,
             "#0d0887"
            ],
            [
             0.1111111111111111,
             "#46039f"
            ],
            [
             0.2222222222222222,
             "#7201a8"
            ],
            [
             0.3333333333333333,
             "#9c179e"
            ],
            [
             0.4444444444444444,
             "#bd3786"
            ],
            [
             0.5555555555555556,
             "#d8576b"
            ],
            [
             0.6666666666666666,
             "#ed7953"
            ],
            [
             0.7777777777777778,
             "#fb9f3a"
            ],
            [
             0.8888888888888888,
             "#fdca26"
            ],
            [
             1,
             "#f0f921"
            ]
           ]
          },
          "colorway": [
           "#636efa",
           "#EF553B",
           "#00cc96",
           "#ab63fa",
           "#FFA15A",
           "#19d3f3",
           "#FF6692",
           "#B6E880",
           "#FF97FF",
           "#FECB52"
          ],
          "font": {
           "color": "#2a3f5f"
          },
          "geo": {
           "bgcolor": "white",
           "lakecolor": "white",
           "landcolor": "#E5ECF6",
           "showlakes": true,
           "showland": true,
           "subunitcolor": "white"
          },
          "hoverlabel": {
           "align": "left"
          },
          "hovermode": "closest",
          "mapbox": {
           "style": "light"
          },
          "paper_bgcolor": "white",
          "plot_bgcolor": "#E5ECF6",
          "polar": {
           "angularaxis": {
            "gridcolor": "white",
            "linecolor": "white",
            "ticks": ""
           },
           "bgcolor": "#E5ECF6",
           "radialaxis": {
            "gridcolor": "white",
            "linecolor": "white",
            "ticks": ""
           }
          },
          "scene": {
           "xaxis": {
            "backgroundcolor": "#E5ECF6",
            "gridcolor": "white",
            "gridwidth": 2,
            "linecolor": "white",
            "showbackground": true,
            "ticks": "",
            "zerolinecolor": "white"
           },
           "yaxis": {
            "backgroundcolor": "#E5ECF6",
            "gridcolor": "white",
            "gridwidth": 2,
            "linecolor": "white",
            "showbackground": true,
            "ticks": "",
            "zerolinecolor": "white"
           },
           "zaxis": {
            "backgroundcolor": "#E5ECF6",
            "gridcolor": "white",
            "gridwidth": 2,
            "linecolor": "white",
            "showbackground": true,
            "ticks": "",
            "zerolinecolor": "white"
           }
          },
          "shapedefaults": {
           "line": {
            "color": "#2a3f5f"
           }
          },
          "ternary": {
           "aaxis": {
            "gridcolor": "white",
            "linecolor": "white",
            "ticks": ""
           },
           "baxis": {
            "gridcolor": "white",
            "linecolor": "white",
            "ticks": ""
           },
           "bgcolor": "#E5ECF6",
           "caxis": {
            "gridcolor": "white",
            "linecolor": "white",
            "ticks": ""
           }
          },
          "title": {
           "x": 0.05
          },
          "xaxis": {
           "automargin": true,
           "gridcolor": "white",
           "linecolor": "white",
           "ticks": "",
           "title": {
            "standoff": 15
           },
           "zerolinecolor": "white",
           "zerolinewidth": 2
          },
          "yaxis": {
           "automargin": true,
           "gridcolor": "white",
           "linecolor": "white",
           "ticks": "",
           "title": {
            "standoff": 15
           },
           "zerolinecolor": "white",
           "zerolinewidth": 2
          }
         }
        },
        "title": {
         "text": "Repo Market: Total Par Accepted"
        },
        "xaxis": {
         "anchor": "y",
         "domain": [
          0,
          1
         ],
         "title": {
          "text": "operationDate"
         }
        },
        "yaxis": {
         "anchor": "x",
         "domain": [
          0,
          1
         ],
         "title": {
          "text": "totalAmtAccepted"
         }
        }
       }
      }
     },
     "metadata": {},
     "output_type": "display_data"
    }
   ],
   "source": [
    "import plotly.express as px\n",
    "\n",
    "fig = px.line(Repo_monthly_df, x=\"operationDate\", y=\"totalAmtAccepted\", title=\"Repo Market: Total Par Accepted\")\n",
    "fig.show()"
   ]
  }
 ],
 "metadata": {
  "kernelspec": {
   "display_name": "base",
   "language": "python",
   "name": "python3"
  },
  "language_info": {
   "codemirror_mode": {
    "name": "ipython",
    "version": 3
   },
   "file_extension": ".py",
   "mimetype": "text/x-python",
   "name": "python",
   "nbconvert_exporter": "python",
   "pygments_lexer": "ipython3",
   "version": "3.11.8"
  }
 },
 "nbformat": 4,
 "nbformat_minor": 5
}
